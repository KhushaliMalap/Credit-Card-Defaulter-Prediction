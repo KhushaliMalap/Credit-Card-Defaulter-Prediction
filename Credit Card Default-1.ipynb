{
 "cells": [
  {
   "cell_type": "code",
   "execution_count": 1,
   "metadata": {
    "colab": {},
    "colab_type": "code",
    "id": "Sg82esiwcUOI"
   },
   "outputs": [],
   "source": [
    "import numpy as np\n",
    "import pandas as pd\n",
    "import seaborn as sns\n",
    "\n",
    "# to make this notebook's output stable across runs\n",
    "np.random.seed(123)\n",
    "\n",
    "# To plot pretty figures\n",
    "%matplotlib inline\n",
    "import matplotlib\n",
    "import matplotlib.pyplot as plt\n",
    "plt.rcParams['axes.labelsize'] = 14\n",
    "plt.rcParams['xtick.labelsize'] = 12\n",
    "plt.rcParams['ytick.labelsize'] = 12"
   ]
  },
  {
   "cell_type": "markdown",
   "metadata": {
    "colab_type": "text",
    "id": "aOuAZnZacUOP"
   },
   "source": [
    "### Classification"
   ]
  },
  {
   "cell_type": "markdown",
   "metadata": {
    "colab_type": "text",
    "id": "rZMJywE2cUOS"
   },
   "source": [
    "Build a classification model for the default of credit card clients dataset. More info here:\n",
    "https://archive.ics.uci.edu/ml/datasets/default+of+credit+card+clients\n",
    "\n",
    "- Explore the data\n",
    "- Make sure you build a full data pipeline\n",
    "- Do you require any data pre-processing? Are all the features useful? (Use only raw features)\n",
    "- set the random seed to 123 (For splitting or any other random algorithm)\n",
    "- Split data into training (80%) and testing (20%)\n",
    "- Follow similar procedure as the one for week 2 (End-to-end Machine Learning Project). Remember apendix B\n",
    "- Study the ROC Curve, decide threshold\n",
    "- Use 2 classifiers.\n",
    "    - Random Forest\n",
    "        - tune only: n_estimators: {4, 5, 10, 20, 50} \n",
    "    - KNN Classfier \n",
    "        - tune only: n_neighbors: {3, 5, 10, 20} \n",
    "    - Which one performs better in the cross validation?\n",
    "    \n",
    "http://scikit-learn.org/stable/modules/generated/sklearn.ensemble.RandomForestClassifier.html\n",
    "http://scikit-learn.org/stable/modules/generated/sklearn.neighbors.KNeighborsClassifier.html\n",
    "\n",
    "- Cross-validation with 5-folds\n",
    "\n",
    "- Other paramenters -> Use default"
   ]
  },
  {
   "cell_type": "markdown",
   "metadata": {
    "colab_type": "text",
    "id": "bV3Ic6VNcUOT"
   },
   "source": [
    "# Frame the Problem and Look at the Big Picture\n",
    "\n",
    "The objective is to predict whether or not a credit card client will default for their payment in the next month. We will be using the better of 2 classifiers namely, Random Forest and KNN Classifier, and determine the best of a given set of hyperparameters by using GridSearchCV. \n",
    "\n",
    "In a business context, this project would be potentially useful at 2 phases of credit lending:\n",
    "1. Active credit card client: It can be used to identify clients that are likely to default in the next payment and therefore flag these clients. It may also be possible to extend the model to detect it 2-3 months prior to a potential default so certain actions may be taken.\n",
    "\n",
    "2. During credit card application: The results/model of the this project can be further used as part of the application process to improve the company's assessment of the creditworthiness of the clients applying for credit cards or other credit products \n",
    "\n",
    "One limitation of this study is that the data is from April 2005 to September 2005 and is considered stale for use in the current period or in the near future.\n",
    "\n",
    "Another major limitation of this study is that the data are from credit card clients in Taiwan and cannot be used in Canada (or any other country for that matter) due to fundamental differences in income levels, culture, consumer behaviour, credit industry landscape, and other conditions."
   ]
  },
  {
   "cell_type": "markdown",
   "metadata": {
    "colab_type": "text",
    "id": "A7952QOxcUOT"
   },
   "source": [
    "# Get the Data\n",
    "\n",
    "Data is obtained through the University of California, Irvine Machine Learning Repository (https://archive.ics.uci.edu/ml/datasets/default+of+credit+card+clients). The data is open for public use and no authorizations are required.\n",
    "\n",
    "Data is imported from the UCI website:"
   ]
  },
  {
   "cell_type": "code",
   "execution_count": 2,
   "metadata": {
    "colab": {},
    "colab_type": "code",
    "id": "OmbgSytGcUOU"
   },
   "outputs": [],
   "source": [
    "df = pd.read_excel(\"https://archive.ics.uci.edu/ml/machine-learning-databases/00350/default%20of%20credit%20card%20clients.xls\", \n",
    "                   sheet = 0, skiprows= 1, header = 0)"
   ]
  },
  {
   "cell_type": "markdown",
   "metadata": {
    "colab_type": "text",
    "id": "TzglXXx7cUOX"
   },
   "source": [
    "Show all columns. Not ideal when there's a lot of columns but this dataset has a manageable number of columns."
   ]
  },
  {
   "cell_type": "code",
   "execution_count": 3,
   "metadata": {
    "colab": {},
    "colab_type": "code",
    "id": "hK5Cr3FWcUOY"
   },
   "outputs": [],
   "source": [
    "pd.set_option('display.max_columns', None)"
   ]
  },
  {
   "cell_type": "markdown",
   "metadata": {
    "colab_type": "text",
    "id": "WZEOPTTFcUOa"
   },
   "source": [
    "Let's take a look at the headers and a few rows to better understand the data structure"
   ]
  },
  {
   "cell_type": "code",
   "execution_count": 4,
   "metadata": {
    "colab": {},
    "colab_type": "code",
    "id": "hE9bH5ONcUOa",
    "outputId": "11a18c8c-aed4-4f2a-9136-5d42947bfe79"
   },
   "outputs": [
    {
     "data": {
      "text/html": [
       "<div>\n",
       "<style scoped>\n",
       "    .dataframe tbody tr th:only-of-type {\n",
       "        vertical-align: middle;\n",
       "    }\n",
       "\n",
       "    .dataframe tbody tr th {\n",
       "        vertical-align: top;\n",
       "    }\n",
       "\n",
       "    .dataframe thead th {\n",
       "        text-align: right;\n",
       "    }\n",
       "</style>\n",
       "<table border=\"1\" class=\"dataframe\">\n",
       "  <thead>\n",
       "    <tr style=\"text-align: right;\">\n",
       "      <th></th>\n",
       "      <th>ID</th>\n",
       "      <th>LIMIT_BAL</th>\n",
       "      <th>SEX</th>\n",
       "      <th>EDUCATION</th>\n",
       "      <th>MARRIAGE</th>\n",
       "      <th>AGE</th>\n",
       "      <th>PAY_0</th>\n",
       "      <th>PAY_2</th>\n",
       "      <th>PAY_3</th>\n",
       "      <th>PAY_4</th>\n",
       "      <th>PAY_5</th>\n",
       "      <th>PAY_6</th>\n",
       "      <th>BILL_AMT1</th>\n",
       "      <th>BILL_AMT2</th>\n",
       "      <th>BILL_AMT3</th>\n",
       "      <th>BILL_AMT4</th>\n",
       "      <th>BILL_AMT5</th>\n",
       "      <th>BILL_AMT6</th>\n",
       "      <th>PAY_AMT1</th>\n",
       "      <th>PAY_AMT2</th>\n",
       "      <th>PAY_AMT3</th>\n",
       "      <th>PAY_AMT4</th>\n",
       "      <th>PAY_AMT5</th>\n",
       "      <th>PAY_AMT6</th>\n",
       "      <th>default payment next month</th>\n",
       "    </tr>\n",
       "  </thead>\n",
       "  <tbody>\n",
       "    <tr>\n",
       "      <th>0</th>\n",
       "      <td>1</td>\n",
       "      <td>20000</td>\n",
       "      <td>2</td>\n",
       "      <td>2</td>\n",
       "      <td>1</td>\n",
       "      <td>24</td>\n",
       "      <td>2</td>\n",
       "      <td>2</td>\n",
       "      <td>-1</td>\n",
       "      <td>-1</td>\n",
       "      <td>-2</td>\n",
       "      <td>-2</td>\n",
       "      <td>3913</td>\n",
       "      <td>3102</td>\n",
       "      <td>689</td>\n",
       "      <td>0</td>\n",
       "      <td>0</td>\n",
       "      <td>0</td>\n",
       "      <td>0</td>\n",
       "      <td>689</td>\n",
       "      <td>0</td>\n",
       "      <td>0</td>\n",
       "      <td>0</td>\n",
       "      <td>0</td>\n",
       "      <td>1</td>\n",
       "    </tr>\n",
       "    <tr>\n",
       "      <th>1</th>\n",
       "      <td>2</td>\n",
       "      <td>120000</td>\n",
       "      <td>2</td>\n",
       "      <td>2</td>\n",
       "      <td>2</td>\n",
       "      <td>26</td>\n",
       "      <td>-1</td>\n",
       "      <td>2</td>\n",
       "      <td>0</td>\n",
       "      <td>0</td>\n",
       "      <td>0</td>\n",
       "      <td>2</td>\n",
       "      <td>2682</td>\n",
       "      <td>1725</td>\n",
       "      <td>2682</td>\n",
       "      <td>3272</td>\n",
       "      <td>3455</td>\n",
       "      <td>3261</td>\n",
       "      <td>0</td>\n",
       "      <td>1000</td>\n",
       "      <td>1000</td>\n",
       "      <td>1000</td>\n",
       "      <td>0</td>\n",
       "      <td>2000</td>\n",
       "      <td>1</td>\n",
       "    </tr>\n",
       "    <tr>\n",
       "      <th>2</th>\n",
       "      <td>3</td>\n",
       "      <td>90000</td>\n",
       "      <td>2</td>\n",
       "      <td>2</td>\n",
       "      <td>2</td>\n",
       "      <td>34</td>\n",
       "      <td>0</td>\n",
       "      <td>0</td>\n",
       "      <td>0</td>\n",
       "      <td>0</td>\n",
       "      <td>0</td>\n",
       "      <td>0</td>\n",
       "      <td>29239</td>\n",
       "      <td>14027</td>\n",
       "      <td>13559</td>\n",
       "      <td>14331</td>\n",
       "      <td>14948</td>\n",
       "      <td>15549</td>\n",
       "      <td>1518</td>\n",
       "      <td>1500</td>\n",
       "      <td>1000</td>\n",
       "      <td>1000</td>\n",
       "      <td>1000</td>\n",
       "      <td>5000</td>\n",
       "      <td>0</td>\n",
       "    </tr>\n",
       "    <tr>\n",
       "      <th>3</th>\n",
       "      <td>4</td>\n",
       "      <td>50000</td>\n",
       "      <td>2</td>\n",
       "      <td>2</td>\n",
       "      <td>1</td>\n",
       "      <td>37</td>\n",
       "      <td>0</td>\n",
       "      <td>0</td>\n",
       "      <td>0</td>\n",
       "      <td>0</td>\n",
       "      <td>0</td>\n",
       "      <td>0</td>\n",
       "      <td>46990</td>\n",
       "      <td>48233</td>\n",
       "      <td>49291</td>\n",
       "      <td>28314</td>\n",
       "      <td>28959</td>\n",
       "      <td>29547</td>\n",
       "      <td>2000</td>\n",
       "      <td>2019</td>\n",
       "      <td>1200</td>\n",
       "      <td>1100</td>\n",
       "      <td>1069</td>\n",
       "      <td>1000</td>\n",
       "      <td>0</td>\n",
       "    </tr>\n",
       "    <tr>\n",
       "      <th>4</th>\n",
       "      <td>5</td>\n",
       "      <td>50000</td>\n",
       "      <td>1</td>\n",
       "      <td>2</td>\n",
       "      <td>1</td>\n",
       "      <td>57</td>\n",
       "      <td>-1</td>\n",
       "      <td>0</td>\n",
       "      <td>-1</td>\n",
       "      <td>0</td>\n",
       "      <td>0</td>\n",
       "      <td>0</td>\n",
       "      <td>8617</td>\n",
       "      <td>5670</td>\n",
       "      <td>35835</td>\n",
       "      <td>20940</td>\n",
       "      <td>19146</td>\n",
       "      <td>19131</td>\n",
       "      <td>2000</td>\n",
       "      <td>36681</td>\n",
       "      <td>10000</td>\n",
       "      <td>9000</td>\n",
       "      <td>689</td>\n",
       "      <td>679</td>\n",
       "      <td>0</td>\n",
       "    </tr>\n",
       "  </tbody>\n",
       "</table>\n",
       "</div>"
      ],
      "text/plain": [
       "   ID  LIMIT_BAL  SEX  EDUCATION  MARRIAGE  AGE  PAY_0  PAY_2  PAY_3  PAY_4  \\\n",
       "0   1      20000    2          2         1   24      2      2     -1     -1   \n",
       "1   2     120000    2          2         2   26     -1      2      0      0   \n",
       "2   3      90000    2          2         2   34      0      0      0      0   \n",
       "3   4      50000    2          2         1   37      0      0      0      0   \n",
       "4   5      50000    1          2         1   57     -1      0     -1      0   \n",
       "\n",
       "   PAY_5  PAY_6  BILL_AMT1  BILL_AMT2  BILL_AMT3  BILL_AMT4  BILL_AMT5  \\\n",
       "0     -2     -2       3913       3102        689          0          0   \n",
       "1      0      2       2682       1725       2682       3272       3455   \n",
       "2      0      0      29239      14027      13559      14331      14948   \n",
       "3      0      0      46990      48233      49291      28314      28959   \n",
       "4      0      0       8617       5670      35835      20940      19146   \n",
       "\n",
       "   BILL_AMT6  PAY_AMT1  PAY_AMT2  PAY_AMT3  PAY_AMT4  PAY_AMT5  PAY_AMT6  \\\n",
       "0          0         0       689         0         0         0         0   \n",
       "1       3261         0      1000      1000      1000         0      2000   \n",
       "2      15549      1518      1500      1000      1000      1000      5000   \n",
       "3      29547      2000      2019      1200      1100      1069      1000   \n",
       "4      19131      2000     36681     10000      9000       689       679   \n",
       "\n",
       "   default payment next month  \n",
       "0                           1  \n",
       "1                           1  \n",
       "2                           0  \n",
       "3                           0  \n",
       "4                           0  "
      ]
     },
     "execution_count": 4,
     "metadata": {},
     "output_type": "execute_result"
    }
   ],
   "source": [
    "df.head()"
   ]
  },
  {
   "cell_type": "code",
   "execution_count": 8,
   "metadata": {},
   "outputs": [
    {
     "data": {
      "text/plain": [
       "array([ 2, -1,  0, -2,  1,  3,  4,  8,  7,  5,  6])"
      ]
     },
     "execution_count": 8,
     "metadata": {},
     "output_type": "execute_result"
    }
   ],
   "source": [
    "df.PAY_0.unique()"
   ]
  },
  {
   "cell_type": "code",
   "execution_count": 15,
   "metadata": {},
   "outputs": [
    {
     "data": {
      "text/plain": [
       "array([ 2,  0, -1, -2,  3,  5,  7,  4,  1,  6,  8])"
      ]
     },
     "execution_count": 15,
     "metadata": {},
     "output_type": "execute_result"
    }
   ],
   "source": [
    "df.PAY_2.unique()"
   ]
  },
  {
   "cell_type": "code",
   "execution_count": 16,
   "metadata": {},
   "outputs": [
    {
     "data": {
      "text/plain": [
       "array([-1,  0,  2, -2,  3,  4,  6,  7,  1,  5,  8])"
      ]
     },
     "execution_count": 16,
     "metadata": {},
     "output_type": "execute_result"
    }
   ],
   "source": [
    "df.PAY_3.unique()"
   ]
  },
  {
   "cell_type": "code",
   "execution_count": 17,
   "metadata": {},
   "outputs": [
    {
     "data": {
      "text/plain": [
       "array([-1,  0, -2,  2,  3,  4,  5,  7,  6,  1,  8])"
      ]
     },
     "execution_count": 17,
     "metadata": {},
     "output_type": "execute_result"
    }
   ],
   "source": [
    "df.PAY_4.unique()"
   ]
  },
  {
   "cell_type": "code",
   "execution_count": 18,
   "metadata": {},
   "outputs": [
    {
     "data": {
      "text/plain": [
       "array([-2,  0, -1,  2,  3,  5,  4,  7,  8,  6])"
      ]
     },
     "execution_count": 18,
     "metadata": {},
     "output_type": "execute_result"
    }
   ],
   "source": [
    "df.PAY_5.unique()"
   ]
  },
  {
   "cell_type": "code",
   "execution_count": 19,
   "metadata": {},
   "outputs": [
    {
     "data": {
      "text/plain": [
       "array([-2,  2,  0, -1,  3,  6,  4,  7,  8,  5])"
      ]
     },
     "execution_count": 19,
     "metadata": {},
     "output_type": "execute_result"
    }
   ],
   "source": [
    "df.PAY_6.unique()"
   ]
  },
  {
   "cell_type": "markdown",
   "metadata": {
    "colab_type": "text",
    "id": "QnWQWsm7cUOg"
   },
   "source": [
    "Data description on the website provides information about the features and the values therein.:\n",
    "\n",
    "* **LIMIT_BAL**: Amount of given credit (in NT dollars) for the invidiual consumer credit and his/her family credit\n",
    "\n",
    "* **GENDER**:\n",
    "    * 1 = Male\n",
    "    * 2 = Female\n",
    "\n",
    "* **EDUCATION**: \n",
    "    * 1 = Graduate school\n",
    "    * 2 = University\n",
    "    * 3 = High School\n",
    "    * 4 = Others \n",
    "\n",
    "* **MARITAL STATUS**:\n",
    "    * 1 = Married\n",
    "    * 2 = Single\n",
    "    * 3 = Others\n",
    "\n",
    "* **AGE**: In years\n",
    "\n",
    "* **PAY_#**: History of past monthly payment records (April 2005 to September 2005). The scale is  \n",
    "    * -1 = Duly paid\n",
    "    * 1 = One month delay\n",
    "    * 2 = 2 month delay \n",
    "    ...\n",
    "    * N = N month delay\n",
    "    \n",
    "* **BILL_AMT#**: Amount on bill statement (in NT dollars) from April 2005 to September 2005\n",
    "\n",
    "* **PAY_AMT#**: Amount of previous payment (in NT dollars) from April 20015 to September 2005\n",
    "\n",
    "* **default payment next month**: The data label\n",
    "    * 0 = Did not default\n",
    "    * 1 = Default\n",
    "    \n",
    "Note that PAY_0 seems to be an odd column header since the BILL_AMT and PAY_AMT columns go from 1 (April 2005) to 6 (September 2005). While this isn't absolutely necessary, we will change it to PAY_1 for consistency and clarity"
   ]
  },
  {
   "cell_type": "code",
   "execution_count": null,
   "metadata": {
    "colab": {},
    "colab_type": "code",
    "id": "FVZ_andQcUOh",
    "outputId": "8c41b6ad-22d4-44c6-f7be-f98061a9510d"
   },
   "outputs": [
    {
     "data": {
      "text/html": [
       "<div>\n",
       "<style>\n",
       "    .dataframe thead tr:only-child th {\n",
       "        text-align: right;\n",
       "    }\n",
       "\n",
       "    .dataframe thead th {\n",
       "        text-align: left;\n",
       "    }\n",
       "\n",
       "    .dataframe tbody tr th {\n",
       "        vertical-align: top;\n",
       "    }\n",
       "</style>\n",
       "<table border=\"1\" class=\"dataframe\">\n",
       "  <thead>\n",
       "    <tr style=\"text-align: right;\">\n",
       "      <th></th>\n",
       "      <th>ID</th>\n",
       "      <th>LIMIT_BAL</th>\n",
       "      <th>SEX</th>\n",
       "      <th>EDUCATION</th>\n",
       "      <th>MARRIAGE</th>\n",
       "      <th>AGE</th>\n",
       "      <th>PAY_1</th>\n",
       "      <th>PAY_2</th>\n",
       "      <th>PAY_3</th>\n",
       "      <th>PAY_4</th>\n",
       "      <th>PAY_5</th>\n",
       "      <th>PAY_6</th>\n",
       "      <th>BILL_AMT1</th>\n",
       "      <th>BILL_AMT2</th>\n",
       "      <th>BILL_AMT3</th>\n",
       "      <th>BILL_AMT4</th>\n",
       "      <th>BILL_AMT5</th>\n",
       "      <th>BILL_AMT6</th>\n",
       "      <th>PAY_AMT1</th>\n",
       "      <th>PAY_AMT2</th>\n",
       "      <th>PAY_AMT3</th>\n",
       "      <th>PAY_AMT4</th>\n",
       "      <th>PAY_AMT5</th>\n",
       "      <th>PAY_AMT6</th>\n",
       "      <th>default payment next month</th>\n",
       "    </tr>\n",
       "  </thead>\n",
       "  <tbody>\n",
       "    <tr>\n",
       "      <th>0</th>\n",
       "      <td>1</td>\n",
       "      <td>20000</td>\n",
       "      <td>2</td>\n",
       "      <td>2</td>\n",
       "      <td>1</td>\n",
       "      <td>24</td>\n",
       "      <td>2</td>\n",
       "      <td>2</td>\n",
       "      <td>-1</td>\n",
       "      <td>-1</td>\n",
       "      <td>-2</td>\n",
       "      <td>-2</td>\n",
       "      <td>3913</td>\n",
       "      <td>3102</td>\n",
       "      <td>689</td>\n",
       "      <td>0</td>\n",
       "      <td>0</td>\n",
       "      <td>0</td>\n",
       "      <td>0</td>\n",
       "      <td>689</td>\n",
       "      <td>0</td>\n",
       "      <td>0</td>\n",
       "      <td>0</td>\n",
       "      <td>0</td>\n",
       "      <td>1</td>\n",
       "    </tr>\n",
       "    <tr>\n",
       "      <th>1</th>\n",
       "      <td>2</td>\n",
       "      <td>120000</td>\n",
       "      <td>2</td>\n",
       "      <td>2</td>\n",
       "      <td>2</td>\n",
       "      <td>26</td>\n",
       "      <td>-1</td>\n",
       "      <td>2</td>\n",
       "      <td>0</td>\n",
       "      <td>0</td>\n",
       "      <td>0</td>\n",
       "      <td>2</td>\n",
       "      <td>2682</td>\n",
       "      <td>1725</td>\n",
       "      <td>2682</td>\n",
       "      <td>3272</td>\n",
       "      <td>3455</td>\n",
       "      <td>3261</td>\n",
       "      <td>0</td>\n",
       "      <td>1000</td>\n",
       "      <td>1000</td>\n",
       "      <td>1000</td>\n",
       "      <td>0</td>\n",
       "      <td>2000</td>\n",
       "      <td>1</td>\n",
       "    </tr>\n",
       "    <tr>\n",
       "      <th>2</th>\n",
       "      <td>3</td>\n",
       "      <td>90000</td>\n",
       "      <td>2</td>\n",
       "      <td>2</td>\n",
       "      <td>2</td>\n",
       "      <td>34</td>\n",
       "      <td>0</td>\n",
       "      <td>0</td>\n",
       "      <td>0</td>\n",
       "      <td>0</td>\n",
       "      <td>0</td>\n",
       "      <td>0</td>\n",
       "      <td>29239</td>\n",
       "      <td>14027</td>\n",
       "      <td>13559</td>\n",
       "      <td>14331</td>\n",
       "      <td>14948</td>\n",
       "      <td>15549</td>\n",
       "      <td>1518</td>\n",
       "      <td>1500</td>\n",
       "      <td>1000</td>\n",
       "      <td>1000</td>\n",
       "      <td>1000</td>\n",
       "      <td>5000</td>\n",
       "      <td>0</td>\n",
       "    </tr>\n",
       "    <tr>\n",
       "      <th>3</th>\n",
       "      <td>4</td>\n",
       "      <td>50000</td>\n",
       "      <td>2</td>\n",
       "      <td>2</td>\n",
       "      <td>1</td>\n",
       "      <td>37</td>\n",
       "      <td>0</td>\n",
       "      <td>0</td>\n",
       "      <td>0</td>\n",
       "      <td>0</td>\n",
       "      <td>0</td>\n",
       "      <td>0</td>\n",
       "      <td>46990</td>\n",
       "      <td>48233</td>\n",
       "      <td>49291</td>\n",
       "      <td>28314</td>\n",
       "      <td>28959</td>\n",
       "      <td>29547</td>\n",
       "      <td>2000</td>\n",
       "      <td>2019</td>\n",
       "      <td>1200</td>\n",
       "      <td>1100</td>\n",
       "      <td>1069</td>\n",
       "      <td>1000</td>\n",
       "      <td>0</td>\n",
       "    </tr>\n",
       "    <tr>\n",
       "      <th>4</th>\n",
       "      <td>5</td>\n",
       "      <td>50000</td>\n",
       "      <td>1</td>\n",
       "      <td>2</td>\n",
       "      <td>1</td>\n",
       "      <td>57</td>\n",
       "      <td>-1</td>\n",
       "      <td>0</td>\n",
       "      <td>-1</td>\n",
       "      <td>0</td>\n",
       "      <td>0</td>\n",
       "      <td>0</td>\n",
       "      <td>8617</td>\n",
       "      <td>5670</td>\n",
       "      <td>35835</td>\n",
       "      <td>20940</td>\n",
       "      <td>19146</td>\n",
       "      <td>19131</td>\n",
       "      <td>2000</td>\n",
       "      <td>36681</td>\n",
       "      <td>10000</td>\n",
       "      <td>9000</td>\n",
       "      <td>689</td>\n",
       "      <td>679</td>\n",
       "      <td>0</td>\n",
       "    </tr>\n",
       "  </tbody>\n",
       "</table>\n",
       "</div>"
      ],
      "text/plain": [
       "   ID  LIMIT_BAL  SEX  EDUCATION  MARRIAGE  AGE  PAY_1  PAY_2  PAY_3  PAY_4  \\\n",
       "0   1      20000    2          2         1   24      2      2     -1     -1   \n",
       "1   2     120000    2          2         2   26     -1      2      0      0   \n",
       "2   3      90000    2          2         2   34      0      0      0      0   \n",
       "3   4      50000    2          2         1   37      0      0      0      0   \n",
       "4   5      50000    1          2         1   57     -1      0     -1      0   \n",
       "\n",
       "   PAY_5  PAY_6  BILL_AMT1  BILL_AMT2  BILL_AMT3  BILL_AMT4  BILL_AMT5  \\\n",
       "0     -2     -2       3913       3102        689          0          0   \n",
       "1      0      2       2682       1725       2682       3272       3455   \n",
       "2      0      0      29239      14027      13559      14331      14948   \n",
       "3      0      0      46990      48233      49291      28314      28959   \n",
       "4      0      0       8617       5670      35835      20940      19146   \n",
       "\n",
       "   BILL_AMT6  PAY_AMT1  PAY_AMT2  PAY_AMT3  PAY_AMT4  PAY_AMT5  PAY_AMT6  \\\n",
       "0          0         0       689         0         0         0         0   \n",
       "1       3261         0      1000      1000      1000         0      2000   \n",
       "2      15549      1518      1500      1000      1000      1000      5000   \n",
       "3      29547      2000      2019      1200      1100      1069      1000   \n",
       "4      19131      2000     36681     10000      9000       689       679   \n",
       "\n",
       "   default payment next month  \n",
       "0                           1  \n",
       "1                           1  \n",
       "2                           0  \n",
       "3                           0  \n",
       "4                           0  "
      ]
     },
     "execution_count": 5,
     "metadata": {
      "tags": []
     },
     "output_type": "execute_result"
    }
   ],
   "source": [
    "df = df.rename(columns = {'PAY_0':'PAY_1'})\n",
    "df.head()"
   ]
  },
  {
   "cell_type": "markdown",
   "metadata": {
    "colab_type": "text",
    "id": "n8zgFTkWcUOl"
   },
   "source": [
    "A quick summary on the description of the data with info() shows that there are no missing values and all of the data is reprsented as integers."
   ]
  },
  {
   "cell_type": "code",
   "execution_count": null,
   "metadata": {
    "colab": {},
    "colab_type": "code",
    "id": "zeg7vsDlcUOl",
    "outputId": "7c9f32f2-c9da-44ef-a966-cd6d1d0270c2"
   },
   "outputs": [
    {
     "name": "stdout",
     "output_type": "stream",
     "text": [
      "<class 'pandas.core.frame.DataFrame'>\n",
      "RangeIndex: 30000 entries, 0 to 29999\n",
      "Data columns (total 25 columns):\n",
      "ID                            30000 non-null int64\n",
      "LIMIT_BAL                     30000 non-null int64\n",
      "SEX                           30000 non-null int64\n",
      "EDUCATION                     30000 non-null int64\n",
      "MARRIAGE                      30000 non-null int64\n",
      "AGE                           30000 non-null int64\n",
      "PAY_1                         30000 non-null int64\n",
      "PAY_2                         30000 non-null int64\n",
      "PAY_3                         30000 non-null int64\n",
      "PAY_4                         30000 non-null int64\n",
      "PAY_5                         30000 non-null int64\n",
      "PAY_6                         30000 non-null int64\n",
      "BILL_AMT1                     30000 non-null int64\n",
      "BILL_AMT2                     30000 non-null int64\n",
      "BILL_AMT3                     30000 non-null int64\n",
      "BILL_AMT4                     30000 non-null int64\n",
      "BILL_AMT5                     30000 non-null int64\n",
      "BILL_AMT6                     30000 non-null int64\n",
      "PAY_AMT1                      30000 non-null int64\n",
      "PAY_AMT2                      30000 non-null int64\n",
      "PAY_AMT3                      30000 non-null int64\n",
      "PAY_AMT4                      30000 non-null int64\n",
      "PAY_AMT5                      30000 non-null int64\n",
      "PAY_AMT6                      30000 non-null int64\n",
      "default payment next month    30000 non-null int64\n",
      "dtypes: int64(25)\n",
      "memory usage: 5.7 MB\n"
     ]
    }
   ],
   "source": [
    "df.info()"
   ]
  },
  {
   "cell_type": "markdown",
   "metadata": {
    "colab_type": "text",
    "id": "s1S1qhYtcUOo"
   },
   "source": [
    "Next, split the data into training set and test set. We will set aside 20% of the test data as test set."
   ]
  },
  {
   "cell_type": "code",
   "execution_count": null,
   "metadata": {
    "colab": {},
    "colab_type": "code",
    "id": "38UvKUnBcUOp"
   },
   "outputs": [],
   "source": [
    "from sklearn.model_selection import train_test_split\n",
    "\n",
    "train_set, test_set = train_test_split(df, test_size = 0.2, random_state = 123)"
   ]
  },
  {
   "cell_type": "markdown",
   "metadata": {
    "colab_type": "text",
    "id": "XeuOaxK3cUOs"
   },
   "source": [
    "# Explore the Data\n",
    "\n",
    "Make a copy of the train_set for exploration then generate some descriptive statistics"
   ]
  },
  {
   "cell_type": "code",
   "execution_count": null,
   "metadata": {
    "colab": {},
    "colab_type": "code",
    "id": "dztWKTcfcUOs",
    "outputId": "20378f0f-22b3-4651-882c-9cc7394dd1c8"
   },
   "outputs": [
    {
     "data": {
      "text/html": [
       "<div>\n",
       "<style>\n",
       "    .dataframe thead tr:only-child th {\n",
       "        text-align: right;\n",
       "    }\n",
       "\n",
       "    .dataframe thead th {\n",
       "        text-align: left;\n",
       "    }\n",
       "\n",
       "    .dataframe tbody tr th {\n",
       "        vertical-align: top;\n",
       "    }\n",
       "</style>\n",
       "<table border=\"1\" class=\"dataframe\">\n",
       "  <thead>\n",
       "    <tr style=\"text-align: right;\">\n",
       "      <th></th>\n",
       "      <th>ID</th>\n",
       "      <th>LIMIT_BAL</th>\n",
       "      <th>SEX</th>\n",
       "      <th>EDUCATION</th>\n",
       "      <th>MARRIAGE</th>\n",
       "      <th>AGE</th>\n",
       "      <th>PAY_1</th>\n",
       "      <th>PAY_2</th>\n",
       "      <th>PAY_3</th>\n",
       "      <th>PAY_4</th>\n",
       "      <th>PAY_5</th>\n",
       "      <th>PAY_6</th>\n",
       "      <th>BILL_AMT1</th>\n",
       "      <th>BILL_AMT2</th>\n",
       "      <th>BILL_AMT3</th>\n",
       "      <th>BILL_AMT4</th>\n",
       "      <th>BILL_AMT5</th>\n",
       "      <th>BILL_AMT6</th>\n",
       "      <th>PAY_AMT1</th>\n",
       "      <th>PAY_AMT2</th>\n",
       "      <th>PAY_AMT3</th>\n",
       "      <th>PAY_AMT4</th>\n",
       "      <th>PAY_AMT5</th>\n",
       "      <th>PAY_AMT6</th>\n",
       "      <th>default payment next month</th>\n",
       "    </tr>\n",
       "  </thead>\n",
       "  <tbody>\n",
       "    <tr>\n",
       "      <th>count</th>\n",
       "      <td>24000.000000</td>\n",
       "      <td>24000.000000</td>\n",
       "      <td>24000.000000</td>\n",
       "      <td>24000.000000</td>\n",
       "      <td>24000.000000</td>\n",
       "      <td>24000.000000</td>\n",
       "      <td>24000.000000</td>\n",
       "      <td>24000.000000</td>\n",
       "      <td>24000.000000</td>\n",
       "      <td>24000.000000</td>\n",
       "      <td>24000.000000</td>\n",
       "      <td>24000.000000</td>\n",
       "      <td>24000.000000</td>\n",
       "      <td>24000.000000</td>\n",
       "      <td>24000.000000</td>\n",
       "      <td>24000.000000</td>\n",
       "      <td>24000.000000</td>\n",
       "      <td>24000.000000</td>\n",
       "      <td>24000.000000</td>\n",
       "      <td>2.400000e+04</td>\n",
       "      <td>24000.000000</td>\n",
       "      <td>24000.000000</td>\n",
       "      <td>24000.000000</td>\n",
       "      <td>24000.000000</td>\n",
       "      <td>24000.000000</td>\n",
       "    </tr>\n",
       "    <tr>\n",
       "      <th>mean</th>\n",
       "      <td>14964.174292</td>\n",
       "      <td>167893.486667</td>\n",
       "      <td>1.603125</td>\n",
       "      <td>1.851958</td>\n",
       "      <td>1.553375</td>\n",
       "      <td>35.488458</td>\n",
       "      <td>-0.017542</td>\n",
       "      <td>-0.135292</td>\n",
       "      <td>-0.170042</td>\n",
       "      <td>-0.224292</td>\n",
       "      <td>-0.265583</td>\n",
       "      <td>-0.294042</td>\n",
       "      <td>51068.758375</td>\n",
       "      <td>49006.879333</td>\n",
       "      <td>46955.185083</td>\n",
       "      <td>43389.105625</td>\n",
       "      <td>40297.970375</td>\n",
       "      <td>38708.777542</td>\n",
       "      <td>5656.319917</td>\n",
       "      <td>5.910454e+03</td>\n",
       "      <td>5280.658708</td>\n",
       "      <td>4763.854250</td>\n",
       "      <td>4805.837667</td>\n",
       "      <td>5277.577958</td>\n",
       "      <td>0.222167</td>\n",
       "    </tr>\n",
       "    <tr>\n",
       "      <th>std</th>\n",
       "      <td>8660.479272</td>\n",
       "      <td>130109.666875</td>\n",
       "      <td>0.489260</td>\n",
       "      <td>0.790560</td>\n",
       "      <td>0.521452</td>\n",
       "      <td>9.217424</td>\n",
       "      <td>1.125331</td>\n",
       "      <td>1.199812</td>\n",
       "      <td>1.201709</td>\n",
       "      <td>1.170630</td>\n",
       "      <td>1.136707</td>\n",
       "      <td>1.152014</td>\n",
       "      <td>73353.609147</td>\n",
       "      <td>71140.365649</td>\n",
       "      <td>68841.868958</td>\n",
       "      <td>64572.844994</td>\n",
       "      <td>60878.153831</td>\n",
       "      <td>59355.284889</td>\n",
       "      <td>16757.718059</td>\n",
       "      <td>2.134743e+04</td>\n",
       "      <td>17973.951980</td>\n",
       "      <td>15162.056345</td>\n",
       "      <td>15251.828322</td>\n",
       "      <td>18222.046645</td>\n",
       "      <td>0.415711</td>\n",
       "    </tr>\n",
       "    <tr>\n",
       "      <th>min</th>\n",
       "      <td>1.000000</td>\n",
       "      <td>10000.000000</td>\n",
       "      <td>1.000000</td>\n",
       "      <td>0.000000</td>\n",
       "      <td>0.000000</td>\n",
       "      <td>21.000000</td>\n",
       "      <td>-2.000000</td>\n",
       "      <td>-2.000000</td>\n",
       "      <td>-2.000000</td>\n",
       "      <td>-2.000000</td>\n",
       "      <td>-2.000000</td>\n",
       "      <td>-2.000000</td>\n",
       "      <td>-15308.000000</td>\n",
       "      <td>-67526.000000</td>\n",
       "      <td>-157264.000000</td>\n",
       "      <td>-65167.000000</td>\n",
       "      <td>-61372.000000</td>\n",
       "      <td>-339603.000000</td>\n",
       "      <td>0.000000</td>\n",
       "      <td>0.000000e+00</td>\n",
       "      <td>0.000000</td>\n",
       "      <td>0.000000</td>\n",
       "      <td>0.000000</td>\n",
       "      <td>0.000000</td>\n",
       "      <td>0.000000</td>\n",
       "    </tr>\n",
       "    <tr>\n",
       "      <th>25%</th>\n",
       "      <td>7467.750000</td>\n",
       "      <td>50000.000000</td>\n",
       "      <td>1.000000</td>\n",
       "      <td>1.000000</td>\n",
       "      <td>1.000000</td>\n",
       "      <td>28.000000</td>\n",
       "      <td>-1.000000</td>\n",
       "      <td>-1.000000</td>\n",
       "      <td>-1.000000</td>\n",
       "      <td>-1.000000</td>\n",
       "      <td>-1.000000</td>\n",
       "      <td>-1.000000</td>\n",
       "      <td>3566.500000</td>\n",
       "      <td>2920.000000</td>\n",
       "      <td>2663.000000</td>\n",
       "      <td>2310.000000</td>\n",
       "      <td>1744.250000</td>\n",
       "      <td>1200.000000</td>\n",
       "      <td>990.000000</td>\n",
       "      <td>8.150000e+02</td>\n",
       "      <td>390.000000</td>\n",
       "      <td>281.750000</td>\n",
       "      <td>234.000000</td>\n",
       "      <td>110.750000</td>\n",
       "      <td>0.000000</td>\n",
       "    </tr>\n",
       "    <tr>\n",
       "      <th>50%</th>\n",
       "      <td>14975.000000</td>\n",
       "      <td>140000.000000</td>\n",
       "      <td>2.000000</td>\n",
       "      <td>2.000000</td>\n",
       "      <td>2.000000</td>\n",
       "      <td>34.000000</td>\n",
       "      <td>0.000000</td>\n",
       "      <td>0.000000</td>\n",
       "      <td>0.000000</td>\n",
       "      <td>0.000000</td>\n",
       "      <td>0.000000</td>\n",
       "      <td>0.000000</td>\n",
       "      <td>22250.000000</td>\n",
       "      <td>20940.500000</td>\n",
       "      <td>20038.000000</td>\n",
       "      <td>19032.000000</td>\n",
       "      <td>18019.000000</td>\n",
       "      <td>16812.500000</td>\n",
       "      <td>2100.000000</td>\n",
       "      <td>2.010000e+03</td>\n",
       "      <td>1801.500000</td>\n",
       "      <td>1500.000000</td>\n",
       "      <td>1500.000000</td>\n",
       "      <td>1500.000000</td>\n",
       "      <td>0.000000</td>\n",
       "    </tr>\n",
       "    <tr>\n",
       "      <th>75%</th>\n",
       "      <td>22460.250000</td>\n",
       "      <td>240000.000000</td>\n",
       "      <td>2.000000</td>\n",
       "      <td>2.000000</td>\n",
       "      <td>2.000000</td>\n",
       "      <td>41.000000</td>\n",
       "      <td>0.000000</td>\n",
       "      <td>0.000000</td>\n",
       "      <td>0.000000</td>\n",
       "      <td>0.000000</td>\n",
       "      <td>0.000000</td>\n",
       "      <td>0.000000</td>\n",
       "      <td>66910.500000</td>\n",
       "      <td>63428.250000</td>\n",
       "      <td>59970.250000</td>\n",
       "      <td>54591.500000</td>\n",
       "      <td>50237.250000</td>\n",
       "      <td>49132.750000</td>\n",
       "      <td>5009.000000</td>\n",
       "      <td>5.000000e+03</td>\n",
       "      <td>4600.000000</td>\n",
       "      <td>4026.000000</td>\n",
       "      <td>4009.250000</td>\n",
       "      <td>4000.000000</td>\n",
       "      <td>0.000000</td>\n",
       "    </tr>\n",
       "    <tr>\n",
       "      <th>max</th>\n",
       "      <td>30000.000000</td>\n",
       "      <td>1000000.000000</td>\n",
       "      <td>2.000000</td>\n",
       "      <td>6.000000</td>\n",
       "      <td>3.000000</td>\n",
       "      <td>79.000000</td>\n",
       "      <td>8.000000</td>\n",
       "      <td>8.000000</td>\n",
       "      <td>8.000000</td>\n",
       "      <td>8.000000</td>\n",
       "      <td>8.000000</td>\n",
       "      <td>8.000000</td>\n",
       "      <td>964511.000000</td>\n",
       "      <td>983931.000000</td>\n",
       "      <td>855086.000000</td>\n",
       "      <td>891586.000000</td>\n",
       "      <td>927171.000000</td>\n",
       "      <td>961664.000000</td>\n",
       "      <td>873552.000000</td>\n",
       "      <td>1.227082e+06</td>\n",
       "      <td>896040.000000</td>\n",
       "      <td>621000.000000</td>\n",
       "      <td>426529.000000</td>\n",
       "      <td>528666.000000</td>\n",
       "      <td>1.000000</td>\n",
       "    </tr>\n",
       "  </tbody>\n",
       "</table>\n",
       "</div>"
      ],
      "text/plain": [
       "                 ID       LIMIT_BAL           SEX     EDUCATION      MARRIAGE  \\\n",
       "count  24000.000000    24000.000000  24000.000000  24000.000000  24000.000000   \n",
       "mean   14964.174292   167893.486667      1.603125      1.851958      1.553375   \n",
       "std     8660.479272   130109.666875      0.489260      0.790560      0.521452   \n",
       "min        1.000000    10000.000000      1.000000      0.000000      0.000000   \n",
       "25%     7467.750000    50000.000000      1.000000      1.000000      1.000000   \n",
       "50%    14975.000000   140000.000000      2.000000      2.000000      2.000000   \n",
       "75%    22460.250000   240000.000000      2.000000      2.000000      2.000000   \n",
       "max    30000.000000  1000000.000000      2.000000      6.000000      3.000000   \n",
       "\n",
       "                AGE         PAY_1         PAY_2         PAY_3         PAY_4  \\\n",
       "count  24000.000000  24000.000000  24000.000000  24000.000000  24000.000000   \n",
       "mean      35.488458     -0.017542     -0.135292     -0.170042     -0.224292   \n",
       "std        9.217424      1.125331      1.199812      1.201709      1.170630   \n",
       "min       21.000000     -2.000000     -2.000000     -2.000000     -2.000000   \n",
       "25%       28.000000     -1.000000     -1.000000     -1.000000     -1.000000   \n",
       "50%       34.000000      0.000000      0.000000      0.000000      0.000000   \n",
       "75%       41.000000      0.000000      0.000000      0.000000      0.000000   \n",
       "max       79.000000      8.000000      8.000000      8.000000      8.000000   \n",
       "\n",
       "              PAY_5         PAY_6      BILL_AMT1      BILL_AMT2  \\\n",
       "count  24000.000000  24000.000000   24000.000000   24000.000000   \n",
       "mean      -0.265583     -0.294042   51068.758375   49006.879333   \n",
       "std        1.136707      1.152014   73353.609147   71140.365649   \n",
       "min       -2.000000     -2.000000  -15308.000000  -67526.000000   \n",
       "25%       -1.000000     -1.000000    3566.500000    2920.000000   \n",
       "50%        0.000000      0.000000   22250.000000   20940.500000   \n",
       "75%        0.000000      0.000000   66910.500000   63428.250000   \n",
       "max        8.000000      8.000000  964511.000000  983931.000000   \n",
       "\n",
       "           BILL_AMT3      BILL_AMT4      BILL_AMT5      BILL_AMT6  \\\n",
       "count   24000.000000   24000.000000   24000.000000   24000.000000   \n",
       "mean    46955.185083   43389.105625   40297.970375   38708.777542   \n",
       "std     68841.868958   64572.844994   60878.153831   59355.284889   \n",
       "min   -157264.000000  -65167.000000  -61372.000000 -339603.000000   \n",
       "25%      2663.000000    2310.000000    1744.250000    1200.000000   \n",
       "50%     20038.000000   19032.000000   18019.000000   16812.500000   \n",
       "75%     59970.250000   54591.500000   50237.250000   49132.750000   \n",
       "max    855086.000000  891586.000000  927171.000000  961664.000000   \n",
       "\n",
       "            PAY_AMT1      PAY_AMT2       PAY_AMT3       PAY_AMT4  \\\n",
       "count   24000.000000  2.400000e+04   24000.000000   24000.000000   \n",
       "mean     5656.319917  5.910454e+03    5280.658708    4763.854250   \n",
       "std     16757.718059  2.134743e+04   17973.951980   15162.056345   \n",
       "min         0.000000  0.000000e+00       0.000000       0.000000   \n",
       "25%       990.000000  8.150000e+02     390.000000     281.750000   \n",
       "50%      2100.000000  2.010000e+03    1801.500000    1500.000000   \n",
       "75%      5009.000000  5.000000e+03    4600.000000    4026.000000   \n",
       "max    873552.000000  1.227082e+06  896040.000000  621000.000000   \n",
       "\n",
       "            PAY_AMT5       PAY_AMT6  default payment next month  \n",
       "count   24000.000000   24000.000000                24000.000000  \n",
       "mean     4805.837667    5277.577958                    0.222167  \n",
       "std     15251.828322   18222.046645                    0.415711  \n",
       "min         0.000000       0.000000                    0.000000  \n",
       "25%       234.000000     110.750000                    0.000000  \n",
       "50%      1500.000000    1500.000000                    0.000000  \n",
       "75%      4009.250000    4000.000000                    0.000000  \n",
       "max    426529.000000  528666.000000                    1.000000  "
      ]
     },
     "execution_count": 8,
     "metadata": {
      "tags": []
     },
     "output_type": "execute_result"
    }
   ],
   "source": [
    "credit = train_set.copy()\n",
    "credit.describe()"
   ]
  },
  {
   "cell_type": "markdown",
   "metadata": {
    "colab_type": "text",
    "id": "c-X2UdZ9cUOx"
   },
   "source": [
    "Although these are numeric, descriptive statistics for the ID, EDUCATION, and MARRIAGE features are not helpful since these are identifiers (for ID) and non-pattern-based numeric representations for categorical variables (e.g. if education was say total number of years of education, or if marriage was say # of people in household then these statistics would make sense).\n",
    "\n",
    "Some observations:\n",
    "* Average credit provided to clients is around $167,900\n",
    "\n",
    "* Max credit issued is 1,000,000, median is 140,000, and IQR is 190,000 suggesting decreasing number of credit issued for higher amounts\n",
    "\n",
    "* More females than males\n",
    "\n",
    "* Average age of clients is 35, youngest client is 21, and oldest is 79\n",
    "\n",
    "* Average bill amounts range from 38,709 to 51,069 per month\n",
    "\n",
    "* Max payment delay is 8 months\n",
    "\n",
    "* Some bill amounts are negative \n",
    "\n",
    "* Average payment amounts range from 4,764 to 5,910 per month\n",
    "\n",
    "* Around 22% of the clients defaulted on their payment for the next month\n",
    "\n",
    "Next, let's do a pairwise plot of the features excluding the PAY_#, BILL_AMT#, and PAY_AMT# features"
   ]
  },
  {
   "cell_type": "code",
   "execution_count": null,
   "metadata": {
    "colab": {},
    "colab_type": "code",
    "id": "pNvSQfzqcUOy",
    "outputId": "babed39d-bed6-4fc9-9073-87296d666e1f"
   },
   "outputs": [
    {
     "data": {
      "text/plain": [
       "<seaborn.axisgrid.PairGrid at 0x1c489f911d0>"
      ]
     },
     "execution_count": 9,
     "metadata": {
      "tags": []
     },
     "output_type": "execute_result"
    },
    {
     "data": {
      "image/png": "[encoded data removed]",
      "text/plain": [
       "<matplotlib.figure.Figure at 0x1c489f91240>"
      ]
     },
     "metadata": {
      "tags": []
     },
     "output_type": "display_data"
    }
   ],
   "source": [
    "credit_nobillpay = credit[[\"LIMIT_BAL\", \"SEX\",\"EDUCATION\",\"MARRIAGE\",\"AGE\", \"default payment next month\"]].copy()\n",
    "sns.pairplot(credit_nobillpay)"
   ]
  },
  {
   "cell_type": "markdown",
   "metadata": {
    "colab_type": "text",
    "id": "a1E6d9rVcUO1"
   },
   "source": [
    "There seems to be some correlation between the ages and the limit balance provided to the consumer. As for the plots with sex, education, and marriage, these plots do not tell much and would be better plotted using other plot forms.\n",
    "\n",
    "The target attribute is the \"default payment next month\". To be sure, let's check that the label is truly 0 or 1"
   ]
  },
  {
   "cell_type": "code",
   "execution_count": null,
   "metadata": {
    "colab": {},
    "colab_type": "code",
    "id": "4e8n6ywgcUO1",
    "outputId": "27811ddd-a2f0-490f-ec6c-dc0f068cafc0"
   },
   "outputs": [
    {
     "data": {
      "text/plain": [
       "0    18668\n",
       "1     5332\n",
       "Name: default payment next month, dtype: int64"
      ]
     },
     "execution_count": 10,
     "metadata": {
      "tags": []
     },
     "output_type": "execute_result"
    }
   ],
   "source": [
    "credit[\"default payment next month\"].value_counts()"
   ]
  },
  {
   "cell_type": "markdown",
   "metadata": {
    "colab_type": "text",
    "id": "l4DbEr8ZcUO4"
   },
   "source": [
    "Let's check the values under EDUCATION. The values range from 0 to 6 however the data description does not provide any context on values other than 1, 2, and 3."
   ]
  },
  {
   "cell_type": "code",
   "execution_count": null,
   "metadata": {
    "colab": {},
    "colab_type": "code",
    "id": "47gYaWYUcUO6",
    "outputId": "42918a7a-10ef-4423-fbad-69fcd97af36b"
   },
   "outputs": [
    {
     "data": {
      "text/plain": [
       "2    11198\n",
       "1     8494\n",
       "3     3938\n",
       "5      229\n",
       "4       91\n",
       "6       39\n",
       "0       11\n",
       "Name: EDUCATION, dtype: int64"
      ]
     },
     "execution_count": 11,
     "metadata": {
      "tags": []
     },
     "output_type": "execute_result"
    }
   ],
   "source": [
    "credit[\"EDUCATION\"].value_counts()"
   ]
  },
  {
   "cell_type": "markdown",
   "metadata": {
    "colab_type": "text",
    "id": "fLssaduocUPF"
   },
   "source": [
    "Let's check the values under \"MARRIAGE\". The value of 0 is not defined in the data description."
   ]
  },
  {
   "cell_type": "code",
   "execution_count": null,
   "metadata": {
    "colab": {},
    "colab_type": "code",
    "id": "J_P7UUeYcUPF",
    "outputId": "ff8d119d-15de-4406-896e-fc6dbb630283"
   },
   "outputs": [
    {
     "data": {
      "text/plain": [
       "2    12798\n",
       "1    10905\n",
       "3      260\n",
       "0       37\n",
       "Name: MARRIAGE, dtype: int64"
      ]
     },
     "execution_count": 12,
     "metadata": {
      "tags": []
     },
     "output_type": "execute_result"
    }
   ],
   "source": [
    "credit[\"MARRIAGE\"].value_counts()"
   ]
  },
  {
   "cell_type": "markdown",
   "metadata": {
    "colab_type": "text",
    "id": "BiPE5sHDcUPL"
   },
   "source": [
    "# Prepare the Data"
   ]
  },
  {
   "cell_type": "code",
   "execution_count": null,
   "metadata": {
    "colab": {},
    "colab_type": "code",
    "id": "g1FVTYnRcUPN"
   },
   "outputs": [],
   "source": [
    "credit = train_set.drop(\"default payment next month\", axis = 1)\n",
    "\n",
    "credit_labels = train_set[\"default payment next month\"].copy()"
   ]
  },
  {
   "cell_type": "markdown",
   "metadata": {
    "colab_type": "text",
    "id": "MpRTArwUcUPT"
   },
   "source": [
    "The current encoding for the categorical variables of EDUCATION, and MARRIAGE may be in ordinal numbers but is not ideal since the numbers themselves don't lend meaning (e.g. EDUCATION has values not defined in the data description). We will then use one-hot encoding for both the EDUCATION and MARRIAGE features. \n",
    "\n",
    "Let's build the preprocessing pipeline for the numerical and categorical features."
   ]
  },
  {
   "cell_type": "code",
   "execution_count": null,
   "metadata": {
    "colab": {},
    "colab_type": "code",
    "id": "kiWCSTLrcUPU"
   },
   "outputs": [],
   "source": [
    "from CategoricalEncoder import CategoricalEncoder\n",
    "from DataFrameSelector import DataFrameSelector"
   ]
  },
  {
   "cell_type": "code",
   "execution_count": null,
   "metadata": {
    "colab": {},
    "colab_type": "code",
    "id": "7GcY2Xg1cUPX"
   },
   "outputs": [],
   "source": [
    "from sklearn.pipeline import Pipeline\n",
    "\n",
    "num_pipeline = Pipeline([\n",
    "        (\"select_numeric\", DataFrameSelector([\"LIMIT_BAL\", \"AGE\", \"PAY_1\", \"PAY_2\", \"PAY_3\", \"PAY_4\", \"PAY_5\", \"PAY_6\",\n",
    "                                              \"BILL_AMT1\", \"BILL_AMT2\", \"BILL_AMT3\", \"BILL_AMT4\", \"BILL_AMT5\", \"BILL_AMT6\",\n",
    "                                              \"PAY_AMT1\", \"PAY_AMT2\", \"PAY_AMT3\", \"PAY_AMT4\", \"PAY_AMT5\", \"PAY_AMT6\"])),\n",
    "        ])"
   ]
  },
  {
   "cell_type": "code",
   "execution_count": null,
   "metadata": {
    "colab": {},
    "colab_type": "code",
    "id": "odQNWu42cUPZ"
   },
   "outputs": [],
   "source": [
    "cat_pipeline = Pipeline([\n",
    "        (\"select_cat\", DataFrameSelector([\"SEX\", \"EDUCATION\", \"MARRIAGE\"])),\n",
    "        (\"cat_encoder\", CategoricalEncoder(encoding='onehot-dense')),\n",
    "    ])"
   ]
  },
  {
   "cell_type": "code",
   "execution_count": null,
   "metadata": {
    "colab": {},
    "colab_type": "code",
    "id": "nS6wBwqWcUPd"
   },
   "outputs": [],
   "source": [
    "from sklearn.pipeline import FeatureUnion\n",
    "preprocess_pipeline = FeatureUnion(transformer_list=[\n",
    "        (\"num_pipeline\", num_pipeline),\n",
    "        (\"cat_pipeline\", cat_pipeline),\n",
    "    ])"
   ]
  },
  {
   "cell_type": "markdown",
   "metadata": {
    "colab_type": "text",
    "id": "fa31nzQ4cUPh"
   },
   "source": [
    "Preprocesing pipeline is complete and let's prepare the data"
   ]
  },
  {
   "cell_type": "code",
   "execution_count": null,
   "metadata": {
    "colab": {},
    "colab_type": "code",
    "id": "FCKeT6bmcUPi"
   },
   "outputs": [],
   "source": [
    "credit_prepared = preprocess_pipeline.fit_transform(credit)"
   ]
  },
  {
   "cell_type": "markdown",
   "metadata": {
    "colab_type": "text",
    "id": "KLg1195LcUPl"
   },
   "source": [
    "# SHORT-LIST PROMISING MODELS and FINE-TUNE THE SYSTEM\n",
    "\n",
    "Short listing promising models has been done as per the requirements of the homework. Moreover, a list of hyperparameters are provided to determine the best model. These two steps will be merged since they are intertwined by the nature of the homework.\n",
    "\n",
    "- Use 2 classifiers.\n",
    "    - Random Forest\n",
    "        - tune only: n_estimators: {4, 5, 10, 20, 50} \n",
    "    - KNN Classfier \n",
    "        - tune only: n_neighbors: {3, 5, 10, 20} "
   ]
  },
  {
   "cell_type": "markdown",
   "metadata": {
    "colab_type": "text",
    "id": "BVGHxbEccUPm"
   },
   "source": [
    "### Random Forest classifier \n",
    "\n",
    "Let's build the Random Forest Classifier"
   ]
  },
  {
   "cell_type": "code",
   "execution_count": null,
   "metadata": {
    "colab": {},
    "colab_type": "code",
    "id": "9jXJMnzRcUPn"
   },
   "outputs": [],
   "source": [
    "from sklearn.ensemble import RandomForestClassifier\n",
    "from sklearn.model_selection import cross_val_predict\n",
    "from sklearn.metrics import roc_curve\n",
    "from sklearn.metrics import roc_auc_score\n",
    "\n",
    "RF = RandomForestClassifier(random_state=123)"
   ]
  },
  {
   "cell_type": "markdown",
   "metadata": {
    "colab_type": "text",
    "id": "DB2MmuiLcUPp"
   },
   "source": [
    "Create a function to plot the ROC curve"
   ]
  },
  {
   "cell_type": "code",
   "execution_count": null,
   "metadata": {
    "colab": {},
    "colab_type": "code",
    "id": "eqZ-v0nNcUPq"
   },
   "outputs": [],
   "source": [
    "def plot_roc_curve(fpr, tpr, label=None):\n",
    "    plt.plot(fpr, tpr, linewidth=2, label=label)\n",
    "    plt.plot([0, 1], [0, 1], 'k--')\n",
    "    plt.axis([0, 1, 0, 1])\n",
    "    plt.xlabel('False Positive Rate', fontsize=16)\n",
    "    plt.ylabel('True Positive Rate', fontsize=16)"
   ]
  },
  {
   "cell_type": "markdown",
   "metadata": {
    "colab_type": "text",
    "id": "zLs5OdnVcUPs"
   },
   "source": [
    "Using GridSearchCV, determine the best hyperparameter for the given list of n_estimators {4, 5, 10, 20, 50}.\n",
    "\n",
    "We wil use CV = 5 and the scoring to be the roc_auc (area under the curve)"
   ]
  },
  {
   "cell_type": "code",
   "execution_count": null,
   "metadata": {
    "colab": {},
    "colab_type": "code",
    "id": "ml0BX5S0cUPu",
    "outputId": "53962a1b-f736-4ce4-9cd6-bd87697417ed"
   },
   "outputs": [
    {
     "data": {
      "text/plain": [
       "GridSearchCV(cv=5, error_score='raise',\n",
       "       estimator=RandomForestClassifier(bootstrap=True, class_weight=None, criterion='gini',\n",
       "            max_depth=None, max_features='auto', max_leaf_nodes=None,\n",
       "            min_impurity_split=1e-07, min_samples_leaf=1,\n",
       "            min_samples_split=2, min_weight_fraction_leaf=0.0,\n",
       "            n_estimators=10, n_jobs=1, oob_score=False, random_state=123,\n",
       "            verbose=0, warm_start=False),\n",
       "       fit_params={}, iid=True, n_jobs=1,\n",
       "       param_grid=[{'n_estimators': [4, 5, 10, 20, 50]}],\n",
       "       pre_dispatch='2*n_jobs', refit=True, return_train_score=True,\n",
       "       scoring='roc_auc', verbose=0)"
      ]
     },
     "execution_count": 21,
     "metadata": {
      "tags": []
     },
     "output_type": "execute_result"
    }
   ],
   "source": [
    "from sklearn.model_selection import GridSearchCV\n",
    "param_grid = [{'n_estimators':  [4, 5, 10, 20, 50]}]\n",
    "\n",
    "grid_search_RF = GridSearchCV(RF, param_grid, cv=5 ,scoring='roc_auc')\n",
    "grid_search_RF.fit(credit_prepared, credit_labels)"
   ]
  },
  {
   "cell_type": "markdown",
   "metadata": {
    "colab_type": "text",
    "id": "1p8ur8qocUP0"
   },
   "source": [
    "The best hyperparameter in the given list for Random Forest is when n_estimators = 50"
   ]
  },
  {
   "cell_type": "code",
   "execution_count": null,
   "metadata": {
    "colab": {},
    "colab_type": "code",
    "id": "dXLIFcOFcUP1",
    "outputId": "0c06a598-0c69-4c90-b42d-fc69ec4d8970"
   },
   "outputs": [
    {
     "data": {
      "text/plain": [
       "{'n_estimators': 50}"
      ]
     },
     "execution_count": 22,
     "metadata": {
      "tags": []
     },
     "output_type": "execute_result"
    }
   ],
   "source": [
    "grid_search_RF.best_params_"
   ]
  },
  {
   "cell_type": "markdown",
   "metadata": {
    "colab_type": "text",
    "id": "rnKzecDrcUP5"
   },
   "source": [
    "For documentation, let's show the resulting Area Under the Curve for each of the n_estimators used"
   ]
  },
  {
   "cell_type": "code",
   "execution_count": null,
   "metadata": {
    "colab": {},
    "colab_type": "code",
    "id": "TlaZ2tiHcUP6",
    "outputId": "dafbbdbf-ac41-4b35-cac5-e5aae2e31268"
   },
   "outputs": [
    {
     "name": "stdout",
     "output_type": "stream",
     "text": [
      "0.689432983715 {'n_estimators': 4}\n",
      "0.70114402169 {'n_estimators': 5}\n",
      "0.725070343295 {'n_estimators': 10}\n",
      "0.74448960009 {'n_estimators': 20}\n",
      "0.754135222935 {'n_estimators': 50}\n"
     ]
    }
   ],
   "source": [
    "cvres_RF = grid_search_RF.cv_results_\n",
    "\n",
    "for mean_score, params in zip(cvres_RF[\"mean_test_score\"], cvres_RF[\"params\"]):\n",
    "    print(mean_score, params)"
   ]
  },
  {
   "cell_type": "markdown",
   "metadata": {
    "colab_type": "text",
    "id": "icWpOnzTcUP8"
   },
   "source": [
    "Let's plot the ROC curve for the best RF estimator"
   ]
  },
  {
   "cell_type": "code",
   "execution_count": null,
   "metadata": {
    "colab": {},
    "colab_type": "code",
    "id": "41Ms7rlicUP9",
    "outputId": "cd0306c4-fd6a-4d2d-b8d7-b244ab5ee587"
   },
   "outputs": [
    {
     "data": {
      "image/png": "[encoded data removed]",
      "text/plain": [
       "<matplotlib.figure.Figure at 0x1c48b28c6d8>"
      ]
     },
     "metadata": {
      "tags": []
     },
     "output_type": "display_data"
    }
   ],
   "source": [
    "best_RF_model = grid_search_RF.best_estimator_\n",
    "\n",
    "y_probas_RF = cross_val_predict(best_RF_model, credit_prepared, credit_labels, cv=5, method=\"predict_proba\")\n",
    "y_scores_RF = y_probas_RF[:, 1] \n",
    "fpr_RF, tpr_RF, thresholds_RF = roc_curve(credit_labels,y_scores_RF)\n",
    "\n",
    "plt.figure(figsize=(8, 6))\n",
    "plot_roc_curve(fpr_RF, tpr_RF, \"Random Forest\")\n",
    "plt.legend(loc=\"lower right\", fontsize=16)\n",
    "plt.show()"
   ]
  },
  {
   "cell_type": "markdown",
   "metadata": {
    "colab_type": "text",
    "id": "EV_rg7HXcUP_"
   },
   "source": [
    "### KNN Classifier\n",
    "\n",
    "First, let's build the KNN Classifier"
   ]
  },
  {
   "cell_type": "code",
   "execution_count": null,
   "metadata": {
    "colab": {},
    "colab_type": "code",
    "id": "TWSfL7C9cUQE"
   },
   "outputs": [],
   "source": [
    "from sklearn.neighbors import KNeighborsClassifier\n",
    "\n",
    "KNN = KNeighborsClassifier()"
   ]
  },
  {
   "cell_type": "markdown",
   "metadata": {
    "colab_type": "text",
    "id": "PP-ZkpR0cUQG"
   },
   "source": [
    "Using GridSearchCV, determine the best hyperparameter for the given list of n_neighbors {3, 5, 10, 20}.\n",
    "\n",
    "We wil use CV = 5 and the scoring to be the roc_auc (area under the curve)"
   ]
  },
  {
   "cell_type": "code",
   "execution_count": null,
   "metadata": {
    "colab": {},
    "colab_type": "code",
    "id": "X2m_qbV8cUQH",
    "outputId": "53ee7ee9-3dbe-485c-bc15-9e84dc070498"
   },
   "outputs": [
    {
     "data": {
      "text/plain": [
       "GridSearchCV(cv=5, error_score='raise',\n",
       "       estimator=KNeighborsClassifier(algorithm='auto', leaf_size=30, metric='minkowski',\n",
       "           metric_params=None, n_jobs=1, n_neighbors=5, p=2,\n",
       "           weights='uniform'),\n",
       "       fit_params={}, iid=True, n_jobs=1,\n",
       "       param_grid=[{'n_neighbors': [3, 5, 10, 20]}],\n",
       "       pre_dispatch='2*n_jobs', refit=True, return_train_score=True,\n",
       "       scoring='roc_auc', verbose=0)"
      ]
     },
     "execution_count": 26,
     "metadata": {
      "tags": []
     },
     "output_type": "execute_result"
    }
   ],
   "source": [
    "param_grid = [{'n_neighbors':  [3, 5, 10, 20]}]\n",
    "\n",
    "grid_search_KNN = GridSearchCV(KNN, param_grid, cv=5 ,scoring='roc_auc')\n",
    "grid_search_KNN.fit(credit_prepared, credit_labels)"
   ]
  },
  {
   "cell_type": "markdown",
   "metadata": {
    "colab_type": "text",
    "id": "_o1Jj9kZcUQK"
   },
   "source": [
    "The best hyperparameter in the list for KNN is when n_neighbors = 20"
   ]
  },
  {
   "cell_type": "code",
   "execution_count": null,
   "metadata": {
    "colab": {},
    "colab_type": "code",
    "id": "AbsEtvpbcUQL",
    "outputId": "7733bd47-b60d-487b-f04d-bf59cd2f8134"
   },
   "outputs": [
    {
     "data": {
      "text/plain": [
       "{'n_neighbors': 20}"
      ]
     },
     "execution_count": 27,
     "metadata": {
      "tags": []
     },
     "output_type": "execute_result"
    }
   ],
   "source": [
    "grid_search_KNN.best_params_"
   ]
  },
  {
   "cell_type": "markdown",
   "metadata": {
    "colab_type": "text",
    "id": "JsoHxs3xcUQO"
   },
   "source": [
    "For documentation, let's show the resulting Area Under the Curve for each of the n_neighbors used"
   ]
  },
  {
   "cell_type": "code",
   "execution_count": null,
   "metadata": {
    "colab": {},
    "colab_type": "code",
    "id": "ikp-_lUPcUQP",
    "outputId": "886b841d-a956-4fa2-a5fe-3b47a14a652f"
   },
   "outputs": [
    {
     "name": "stdout",
     "output_type": "stream",
     "text": [
      "0.582156524319 {'n_neighbors': 3}\n",
      "0.600679894629 {'n_neighbors': 5}\n",
      "0.626676780624 {'n_neighbors': 10}\n",
      "0.644265674088 {'n_neighbors': 20}\n"
     ]
    }
   ],
   "source": [
    "cvres_KNN = grid_search_KNN.cv_results_\n",
    "for mean_score, params in zip(cvres_KNN[\"mean_test_score\"], cvres_KNN[\"params\"]):\n",
    "    print(mean_score, params)"
   ]
  },
  {
   "cell_type": "markdown",
   "metadata": {
    "colab_type": "text",
    "id": "sQJk1TUtcUQU"
   },
   "source": [
    "Let's plot the ROC curve for the best KNN estimator"
   ]
  },
  {
   "cell_type": "code",
   "execution_count": null,
   "metadata": {
    "colab": {},
    "colab_type": "code",
    "id": "qPHTSnIEcUQW",
    "outputId": "5db8b1bb-6665-407d-ddc3-bbd7fa286512"
   },
   "outputs": [
    {
     "data": {
      "image/png": "[encoded data removed]",
      "text/plain": [
       "<matplotlib.figure.Figure at 0x1c48b8dbdd8>"
      ]
     },
     "metadata": {
      "tags": []
     },
     "output_type": "display_data"
    }
   ],
   "source": [
    "best_KNN_model = grid_search_KNN.best_estimator_\n",
    "\n",
    "y_probas_KNN = cross_val_predict(best_KNN_model, credit_prepared, credit_labels, cv=5, method=\"predict_proba\")\n",
    "y_scores_KNN = y_probas_KNN[:, 1] \n",
    "fpr_KNN, tpr_KNN, thresholds_KNN = roc_curve(credit_labels,y_scores_KNN)\n",
    "\n",
    "plt.figure(figsize=(8, 6))\n",
    "plot_roc_curve(fpr_KNN, tpr_KNN, \"KNN\")\n",
    "plt.legend(loc=\"lower right\", fontsize=16)\n",
    "plt.show()"
   ]
  },
  {
   "cell_type": "markdown",
   "metadata": {
    "colab_type": "text",
    "id": "mR2HYqa9cUQZ"
   },
   "source": [
    "The best RF estimator (with n_estimators = 50) has an ROC AUC of 0.754135222935.\n",
    "\n",
    "Compare this to the best KNN estimator (with n_neighors = 20) which has an ROC AUC of 0.644265674088.\n",
    "\n",
    "Effectively, the best model out of the models trained is Random Forest with n_estimators = 50. This is also demonstrated by plotting the curves for the best RF and KNN estimators. "
   ]
  },
  {
   "cell_type": "code",
   "execution_count": null,
   "metadata": {
    "colab": {},
    "colab_type": "code",
    "id": "y6Z9tnWGcUQa",
    "outputId": "f22bd914-d752-4091-e20c-e34879bf5b1b"
   },
   "outputs": [
    {
     "data": {
      "image/png": "[encoded data removed]",
      "text/plain": [
       "<matplotlib.figure.Figure at 0x1c48b8e1128>"
      ]
     },
     "metadata": {
      "tags": []
     },
     "output_type": "display_data"
    }
   ],
   "source": [
    "plt.figure(figsize=(8, 6))\n",
    "plot_roc_curve(fpr_KNN, tpr_KNN, \"KNN with n_neighbours = 20\")\n",
    "plot_roc_curve(fpr_RF, tpr_RF, \"Random Forest with n_estimators = 50 \")\n",
    "plt.legend(loc=\"lower right\", fontsize=16)\n",
    "plt.show()"
   ]
  },
  {
   "cell_type": "markdown",
   "metadata": {
    "colab_type": "text",
    "id": "Vq24t1wdcUQn"
   },
   "source": [
    "### Final Model Performance\n",
    "\n",
    "Given that we found our best estimator, let's measure its performance on the test set.\n",
    "\n",
    "Preprocess the data:"
   ]
  },
  {
   "cell_type": "code",
   "execution_count": null,
   "metadata": {
    "colab": {},
    "colab_type": "code",
    "id": "Pd6SIhDdcUQo"
   },
   "outputs": [],
   "source": [
    "credit_test = test_set.drop(\"default payment next month\", axis = 1)\n",
    "\n",
    "credit_test_labels = test_set[\"default payment next month\"].copy()\n",
    "\n",
    "credit_test_prepared = preprocess_pipeline.fit_transform(credit_test)"
   ]
  },
  {
   "cell_type": "markdown",
   "metadata": {
    "colab_type": "text",
    "id": "efRPuBCucUQw"
   },
   "source": [
    "Plot the ROC curve"
   ]
  },
  {
   "cell_type": "code",
   "execution_count": null,
   "metadata": {
    "colab": {},
    "colab_type": "code",
    "id": "8JnHofFWcUQx",
    "outputId": "4fc17625-6f96-4039-d051-2fab8700fcdc"
   },
   "outputs": [
    {
     "data": {
      "image/png": "[encoded data removed]",
      "text/plain": [
       "<matplotlib.figure.Figure at 0x1c48bedbc50>"
      ]
     },
     "metadata": {
      "tags": []
     },
     "output_type": "display_data"
    }
   ],
   "source": [
    "y_probas_RF_test = cross_val_predict(best_RF_model, credit_test_prepared, credit_test_labels, cv=5, method=\"predict_proba\")\n",
    "y_scores_RF_test = y_probas_RF_test[:, 1] \n",
    "fpr_RF_test, tpr_RF_test, thresholds_RF_test = roc_curve(credit_test_labels,y_scores_RF_test)\n",
    "\n",
    "plt.figure(figsize=(8, 6))\n",
    "plot_roc_curve(fpr_RF_test, tpr_RF_test, \"Random Forest - Test\")\n",
    "plt.legend(loc=\"lower right\", fontsize=16)\n",
    "plt.show()"
   ]
  },
  {
   "cell_type": "markdown",
   "metadata": {
    "colab_type": "text",
    "id": "M47P6Ja_cUQ7"
   },
   "source": [
    "Compute the AUC score"
   ]
  },
  {
   "cell_type": "code",
   "execution_count": null,
   "metadata": {
    "colab": {},
    "colab_type": "code",
    "id": "pl74a9YzcUQ7",
    "outputId": "c45130a0-83ab-47e5-9693-e5152a0610df"
   },
   "outputs": [
    {
     "data": {
      "text/plain": [
       "0.75158657087091485"
      ]
     },
     "execution_count": 33,
     "metadata": {
      "tags": []
     },
     "output_type": "execute_result"
    }
   ],
   "source": [
    "roc_auc_score(credit_test_labels, y_scores_RF_test)"
   ]
  },
  {
   "cell_type": "markdown",
   "metadata": {
    "colab_type": "text",
    "id": "yaXMZrI2cUQ-"
   },
   "source": [
    "#### Conclusions"
   ]
  },
  {
   "cell_type": "markdown",
   "metadata": {
    "colab_type": "text",
    "id": "kXHSrtKVcUQ-"
   },
   "source": [
    "**Response:**\n",
    "\n",
    "The best classifier found is Random Forest with n_estimators = 50. Both the training set and test set had an ROC AUC score of about 0.75 with the test set performing slightly worse. \n",
    "\n",
    "While the problem is limited to raw features only, I would want to include one additional feature that I think would be relevant to the task. That is the % of the bill amount that was paid for the month.\n",
    "\n",
    "With respect to features, not all raw features are necessary. potentially the last 2-3 months of information on payment status is necessary. However, I can think of 2 additional measures that can perhaps improve the classifiers:\n",
    "\n",
    "1. % of the bill amount that was paid for the month (so payments > or = to 100% means consumer is either on time on payments or paying down debt)\n",
    "2. Taking measure #1 a bit further is to get the the change in % of outstanding bill paid (e.g. say 75% of bill paid in month 1 then 45% of bill paid in month 2 shows a worsening payment rate and also reflects a ballooning bill). This means that an decreasing rate of change in % of outstanding bill paid means they can't keep up with payments.\n",
    "\n",
    "I think these 2 measure would be more useful than the current raw features for BILL_AMT# and PAY_AMT#."
   ]
  }
 ],
 "metadata": {
  "colab": {
   "name": "W3_Homework_Solution.ipynb",
   "provenance": [],
   "version": "0.3.2"
  },
  "kernelspec": {
   "display_name": "Python 3",
   "language": "python",
   "name": "python3"
  },
  "language_info": {
   "codemirror_mode": {
    "name": "ipython",
    "version": 3
   },
   "file_extension": ".py",
   "mimetype": "text/x-python",
   "name": "python",
   "nbconvert_exporter": "python",
   "pygments_lexer": "ipython3",
   "version": "3.7.7"
  }
 },
 "nbformat": 4,
 "nbformat_minor": 4
}
